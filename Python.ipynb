{
  "nbformat": 4,
  "nbformat_minor": 0,
  "metadata": {
    "colab": {
      "provenance": [],
      "authorship_tag": "ABX9TyNnCCgQmTbdK0bKCySclKz4",
      "include_colab_link": true
    },
    "kernelspec": {
      "name": "python3",
      "display_name": "Python 3"
    },
    "language_info": {
      "name": "python"
    }
  },
  "cells": [
    {
      "cell_type": "markdown",
      "metadata": {
        "id": "view-in-github",
        "colab_type": "text"
      },
      "source": [
        "<a href=\"https://colab.research.google.com/github/DhavalPatodiya/ML-learn/blob/main/Python.ipynb\" target=\"_parent\"><img src=\"https://colab.research.google.com/assets/colab-badge.svg\" alt=\"Open In Colab\"/></a>"
      ]
    },
    {
      "cell_type": "code",
      "execution_count": null,
      "metadata": {
        "id": "PAr9t3Tr1n3_"
      },
      "outputs": [],
      "source": [
        "#int\n",
        "\n"
      ]
    },
    {
      "cell_type": "markdown",
      "source": [
        "- Everything is an object in Python\n",
        "- Int is immutable\n",
        "- Float max value = 1.8 x 10^308 (beyond this maz infinity)\n"
      ],
      "metadata": {
        "id": "5__kIRwH1w7n"
      }
    },
    {
      "cell_type": "code",
      "source": [
        "1.8e309"
      ],
      "metadata": {
        "colab": {
          "base_uri": "https://localhost:8080/"
        },
        "id": "7J6x6QKL2DAU",
        "outputId": "eabf828f-ed61-4e9b-8f29-ca1fb954babf"
      },
      "execution_count": 1,
      "outputs": [
        {
          "output_type": "execute_result",
          "data": {
            "text/plain": [
              "inf"
            ]
          },
          "metadata": {},
          "execution_count": 1
        }
      ]
    },
    {
      "cell_type": "markdown",
      "source": [
        "# Complex Number\n",
        "-  Consist of 2 floating point number and seperated by a + sign and letter j. j presents the square root of the negative one, which defines the imaginary component of a complex number"
      ],
      "metadata": {
        "id": "xvfFtQm52Zar"
      }
    },
    {
      "cell_type": "code",
      "source": [
        "a = 3 + 4j\n",
        "type(a)\n",
        "print(abs(a))\n",
        "print(a.real)\n",
        "print(a.imag)\n",
        "print(a.conjugate())"
      ],
      "metadata": {
        "colab": {
          "base_uri": "https://localhost:8080/"
        },
        "id": "Gm51Bt032Fhw",
        "outputId": "56ec2b23-3960-4d43-a035-3aec16b82380"
      },
      "execution_count": 3,
      "outputs": [
        {
          "output_type": "stream",
          "name": "stdout",
          "text": [
            "5.0\n",
            "3.0\n",
            "4.0\n",
            "(3-4j)\n"
          ]
        }
      ]
    },
    {
      "cell_type": "code",
      "source": [],
      "metadata": {
        "id": "bl8wbQiU21EQ"
      },
      "execution_count": null,
      "outputs": []
    }
  ]
}